{
 "cells": [
  {
   "cell_type": "markdown",
   "metadata": {},
   "source": [
    "## Wstęp do programowania, grupa 5\n",
    "### Praca domowa 03 [100 pkt]\n",
    "\n",
    "Proszę użyć tego arkusza do rozwiązania zadań domowych. Na początek proszę zmienić 'nazwisko_imie' na Państwa nazwisko i imie, bez polskich znaków diakrytycznych.\n",
    "\n",
    "Część zadań to powtórka z zajęć. Jak już Państwo zaprogramują wszytsko, proszę zapisać arkusz (File->Save and Checkpoint) oraz zapisać arkusz na dysk (File->Download as->Notebook). Ten plik proszę wgrać na classroom. \n",
    "\n",
    "### Rozgałęzienia, obie pętle, ale przede wszystkim funkcje\n",
    "\n",
    "`def funkcja(par1, par2):\n",
    "    \"\"\"docstring\"\"\"\n",
    "    CIAŁO_FUNKCJI\n",
    "    return ret`\n"
   ]
  },
  {
   "cell_type": "markdown",
   "metadata": {},
   "source": [
    "### Zadanie 1 [10 pkt]\n",
    "Napisz 5 prostych funkcji jednoparametrowych (po 2pkt za funkcję). Proszę nie bać się nazywać zmiennych porządnie.\n",
    "\n",
    "1. `c2f(c)`: przeliczającą stopnie Celsiusza `c` na stopnie Fahrenheita. Funkcja powinna przyjmować pojedynczy argument (stopień Celsiusza) i **zwracać** (`return`) wartość w stopniach Fahrenheita. \n",
    "\n",
    "2. `heaviside(x)`: funkcja przyjmująca 1 argument $x$ - liczbę i zwracająca 0 dla liczb $x<0$ oraz 1 dla $x \\ge 1$.\n",
    "\n",
    "3. `podloga(z)`: funkcja z jednym parametrem - literałem liczbowym $z$, zwracająca największą liczbę całkowitą mniejszą od $z$. Proszę nie używać `int`, `floor` czy innych funkcji wbudowanych. Kodują państwo sami.\n",
    "\n",
    "4. `signum(y)`: funkcja z jednym parametrem - literałem liczbowym $y$, zwracająca znak liczby w postaci liczb $\\{-1, 1\\}$.\n",
    "\n",
    "5. `czy_parzysta(L)`: funkcja typu `bool` z jednym parametrem - literałem liczbowym $L$, zwracająca `True` jeżeli `L` jest parzyste lub `False` w przeciwnym razie."
   ]
  },
  {
   "cell_type": "code",
   "execution_count": null,
   "metadata": {
    "collapsed": true
   },
   "outputs": [],
   "source": []
  },
  {
   "cell_type": "markdown",
   "metadata": {},
   "source": [
    "### Zadanie 2 [10 pkt]\n",
    "Stwórz funkcję rozwiązującą równanie kwadratowe `rownanie_kwadratowe`. \n",
    "\n",
    " $$a x^2 + b x + c = 0 $$\n",
    "\n",
    "Funkcja powinna pobierać trzy argumenty liczbowe `a, b, c` natomiast nic nie zwracać (nie posiadać return) a tylko drukować obliczone pierwiastki (`print`). Proszę też wydrukować równanie dla wprawy - liczby zmiennoprzecinkowe powinny być drukowane z dokłądnością do 2 miejsc po przecinku. Podać rozwiązania również dla liczb urojonych. "
   ]
  },
  {
   "cell_type": "code",
   "execution_count": null,
   "metadata": {
    "collapsed": true
   },
   "outputs": [],
   "source": []
  },
  {
   "cell_type": "markdown",
   "metadata": {},
   "source": [
    "### Zadanie 3 [10 pkt]\n",
    "Napisz funkcję, która pobiera 2 argumenty - liczbę oraz liczbę cyfr tej liczby, a zwraca liczbę z cyframi w odwrotnej kolejności (będzie to funkcja pomocnicza do kolejnego zadania)."
   ]
  },
  {
   "cell_type": "code",
   "execution_count": null,
   "metadata": {
    "collapsed": true
   },
   "outputs": [],
   "source": []
  },
  {
   "cell_type": "markdown",
   "metadata": {},
   "source": [
    "### Zadanie 4 [15 pkt]\n",
    "Proszę napisać funkcję która dla konkretnej trzycyfrowej `ABC` (np: `543`) liczby oblicza po kolei\n",
    "\n",
    "1. odwraca cyfry liczby oryginalnej `CBA` (`345`)\n",
    "\n",
    "2. odejmuje liczbę odwróconą od oryginalnej `XYZ = ABC - CBA (543 - 345 = 198)`\n",
    "\n",
    "3. odwracamy cyfry obliczonej różnicy `ZYX (891)`\n",
    "\n",
    "4. dodajemy do siebie różnicę (`XYZ`) oraz jej odwrócenie (`ZYX`): \n",
    "`wynik = XYZ + ZYX  (198 + 891 = 1089)`\n",
    "\n",
    "5. zwracamy powyższy `wynik`\n",
    "\n",
    "Proszę posprawdzać taki algorytm dla kilku liczb. Jeżeli cyfry w oryginalnej liczbie ABC będą ułożone malejąco (jak w powyższym przykładzie), to wynik obliczeń będzie wynosił zawsze `1089`.\n",
    "\n",
    "Uwaga: wykorzystaj funkcję z zadania 3 do odwracania liczb."
   ]
  },
  {
   "cell_type": "code",
   "execution_count": null,
   "metadata": {
    "collapsed": true
   },
   "outputs": [],
   "source": []
  },
  {
   "cell_type": "markdown",
   "metadata": {},
   "source": [
    "### Zadanie 5 [5 pkt]\n",
    "Wydrukuj tablicę kwadratów i sześcianów liczb z zadanego przedziału. "
   ]
  },
  {
   "cell_type": "code",
   "execution_count": null,
   "metadata": {
    "collapsed": true
   },
   "outputs": [],
   "source": []
  },
  {
   "cell_type": "markdown",
   "metadata": {},
   "source": [
    "### Zadanie 6 [10 pkt]\n",
    "Napisz funkcję, która dla podanego argumnetu `n` znajduje sumę liczb postaci\n",
    "\n",
    "$$1 + 22 + 333 + 4444 + \\dots$$\n",
    "\n",
    "Przykładowo\n",
    "\n",
    "* dla `n=4`, `suma = 1 + 22 + 333 + 4444 = 4800`\n",
    "\n",
    "* dla `n=6` `suma = 1 + 22 + 333 + 4444 + 55555 + 666666 = 727021`\n"
   ]
  },
  {
   "cell_type": "code",
   "execution_count": null,
   "metadata": {
    "collapsed": true
   },
   "outputs": [],
   "source": []
  },
  {
   "cell_type": "markdown",
   "metadata": {},
   "source": [
    "### Zadanie 7 [10 pkt]\n",
    "Napisz funkcję `suma_liczb` obliczającą sumę liczb naturalnych mniejszych od zadanego parametru `M`, które są podzielne (dzielą się bez reszty) przez liczbę `dzielnik1` lub liczbę `dzielnik2`. \n",
    "\n",
    "Przykładowo\n",
    "```\n",
    ">>> suma_liczb(10, 3, 5)\n",
    "23\n",
    "```"
   ]
  },
  {
   "cell_type": "code",
   "execution_count": null,
   "metadata": {
    "collapsed": true
   },
   "outputs": [],
   "source": []
  },
  {
   "cell_type": "markdown",
   "metadata": {},
   "source": [
    "### Zadanie 8 [30 pkt]\n",
    "Napisz funkcje wyznaczające sumy i iloczyny. Po 3 pkt za podpunkt.\n",
    "\n",
    "* $s = \\sum_{k=1}^n k$\n",
    "\n",
    "* $s = \\sum_{k=1}^n (2k - 1)$\n",
    "\n",
    "* $s = \\sum_{k=1}^n \\frac{1}{k^2 + k}$\n",
    "\n",
    "* $s = \\sum_{k=1}^n \\sqrt[k]{x}$\n",
    "\n",
    "* $s = \\sum_{k=0}^n (-2)^{k}$\n",
    "\n",
    "* sumę odwrotności sześcianów `n` liczb naturalnych\n",
    "\n",
    "* $s = \\sum_{k=1}^n (-1)^k$\n",
    "\n",
    "* $i = \\prod_{k=1}^n (k - 1)$\n",
    "\n",
    "* $i = \\prod_{k=1}^n k^{-k}$\n",
    "\n",
    "* iloczyn odwrotności kwadratów `n` liczb naturalnych"
   ]
  },
  {
   "cell_type": "code",
   "execution_count": null,
   "metadata": {
    "collapsed": false
   },
   "outputs": [],
   "source": []
  },
  {
   "cell_type": "code",
   "execution_count": null,
   "metadata": {
    "collapsed": false
   },
   "outputs": [],
   "source": []
  },
  {
   "cell_type": "code",
   "execution_count": null,
   "metadata": {
    "collapsed": true
   },
   "outputs": [],
   "source": []
  }
 ],
 "metadata": {
  "kernelspec": {
   "display_name": "Python 3",
   "language": "python",
   "name": "python3"
  },
  "language_info": {
   "codemirror_mode": {
    "name": "ipython",
    "version": 3
   },
   "file_extension": ".py",
   "mimetype": "text/x-python",
   "name": "python",
   "nbconvert_exporter": "python",
   "pygments_lexer": "ipython3",
   "version": "3.5.2"
  }
 },
 "nbformat": 4,
 "nbformat_minor": 1
}
