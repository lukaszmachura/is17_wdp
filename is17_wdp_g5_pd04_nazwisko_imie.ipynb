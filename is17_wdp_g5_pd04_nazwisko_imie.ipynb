{
 "cells": [
  {
   "cell_type": "markdown",
   "metadata": {},
   "source": [
    "## Wstęp do programowania, grupa 5\n",
    "### Praca domowa 04 [100 pkt]\n",
    "\n",
    "Proszę użyć tego arkusza do rozwiązania zadań domowych. Na początek proszę zmienić 'nazwisko_imie' na Państwa nazwisko i imie, bez polskich znaków diakrytycznych.\n",
    "\n",
    "Część zadań to powtórka z zajęć. Jak już Państwo zaprogramują wszytsko, proszę zapisać arkusz (File->Save and Checkpoint) oraz zapisać arkusz na dysk (File->Download as->Notebook). Ten plik proszę wgrać na classroom. \n",
    "\n",
    "## Przeczytaj\n",
    "\n",
    "* [dokumentacja](https://docs.python.org/3/tutorial/datastructures.html)\n",
    "* [skrypt od A do Z, uwaga Python 2!](http://mumin.pl/SkryptOdADoZ/lekcje/l02.html#typy-sekwencyjne)\n",
    "\n",
    "### funkcje, typy złożone (sekwencyjne), for\n",
    "\n",
    "```\n",
    "for element in sekwencja:\n",
    "    BLOK_FOR\n",
    "```\n",
    "\n",
    "#### listy\n",
    "\n",
    "```\n",
    "L = [1, 2, 3]\n",
    "L_pusta1 = []\n",
    "L_pusta2 = list()\n",
    "```\n",
    "\n",
    "#### krotki\n",
    "\n",
    "```\n",
    "K = (1, 2, 3)\n",
    "K_pusta1 = (,)\n",
    "K_pusta2 = tuple()\n",
    "```\n",
    "\n",
    "#### słowniki\n",
    "```\n",
    "D = {'ala': 'kot', 1: 'jeden', 'one': 1}\n",
    "D_pusty1 = {}\n",
    "D_pusty2 = dict()\n",
    "```"
   ]
  },
  {
   "cell_type": "markdown",
   "metadata": {},
   "source": [
    "### Zadanie 1 [10 pkt]\n",
    "Tworzenie **list, krotek i łańcychów znaków** za pomocą konkatenacji (concatenate) - operator ``+``. Np: aby stworzyć listę liczb nieparzystych w zakresie od `0` do `10` można napisać:\n",
    "\n",
    "```\n",
    "od, do = 0, 10\n",
    "lista_nieparzystych = []\n",
    "for liczba in range(od, do + 1):\n",
    "    if liczba % 2 == 1:\n",
    "        lista_nieparzystych += [liczba]\n",
    "```\n",
    "\n",
    "Bazując na powyższym [snippecie](https://pl.wikipedia.org/wiki/Snippet_(programowanie)) kodu, bez użycia funkcji napisz proste programy, które stworzą. Każdy punkt to 2 pkt. Wszystkie te programy muszą bazować na operatorze ``+`` oraz na pętli ``for``, nie wolno wykorzystywać funkcji wbudowanych.\n",
    "\n",
    "1. listę liczb podzielnych przez `3` a niepodzielnych przez `7`, w zakresie od `207` do `2235`; kod postaraj się napisać tak, aby łatwo było te wartości (3, 7, 207 i 2235) zmieniać;\n",
    "\n",
    "2. krotkę liczb trzycyfrowych z zakresu od 0 do 1000, takich, które mają pierwszą i ostatnią cyfrę taką samą;\n",
    "\n",
    "3. łańcuch znaków zawierający alfabet (bez polskich znaków diaktytycznych) składający się z małych liter; możesz wykorzystać funkcję ``chr``;\n",
    "\n",
    "4. krotkę zawierającą kolejne cyfry dziesiętne ludolfiny, aż do podanej wartości maksymalnej `MAX_PI`; w tym przykładzie `MAX_PI = 10`:\n",
    "    `(1, 4, 1, 5, 9, 2, 6, 5, 3, 5, ...)`\n",
    "\n",
    "5. listę znaków wpisu \"Ala ma kota, milicja ma Ale\", bez białych znaków (tu tylko spacji) \n",
    "    \n",
    "   ['A', 'l', 'a', 'm', 'a', 'k', 'o', 't', 'a', ',', 'm', 'i', 'l', 'i', 'c', 'j', 'a', 'm', 'a', 'A', 'l', 'e']"
   ]
  },
  {
   "cell_type": "code",
   "execution_count": 20,
   "metadata": {
    "collapsed": false
   },
   "outputs": [
    {
     "data": {
      "text/plain": [
       "'abcdefghijklmnopqrstuvwxyz'"
      ]
     },
     "execution_count": 20,
     "metadata": {},
     "output_type": "execute_result"
    }
   ],
   "source": [
    "# zadanie 1.1\n",
    "import string\n",
    "string.ascii_lowercase"
   ]
  },
  {
   "cell_type": "code",
   "execution_count": null,
   "metadata": {
    "collapsed": true
   },
   "outputs": [],
   "source": [
    "# zadanie 1.2"
   ]
  },
  {
   "cell_type": "code",
   "execution_count": null,
   "metadata": {
    "collapsed": true
   },
   "outputs": [],
   "source": [
    "# zadanie 1.3"
   ]
  },
  {
   "cell_type": "code",
   "execution_count": null,
   "metadata": {
    "collapsed": true
   },
   "outputs": [],
   "source": [
    "# zadanie 1.4"
   ]
  },
  {
   "cell_type": "code",
   "execution_count": null,
   "metadata": {
    "collapsed": true
   },
   "outputs": [],
   "source": [
    "# zadanie 1.5"
   ]
  },
  {
   "cell_type": "markdown",
   "metadata": {},
   "source": [
    "### Zadanie 2 [10 pkt] listy\n",
    "Przepisz programy z zadania 1 posługując się metodą `append`. **Uwaga:** tutaj tworzymy tylko listy."
   ]
  },
  {
   "cell_type": "code",
   "execution_count": 16,
   "metadata": {
    "collapsed": true
   },
   "outputs": [],
   "source": [
    "# zadanie 2, punkty 1-5"
   ]
  },
  {
   "cell_type": "markdown",
   "metadata": {},
   "source": [
    "### Zadanie 3 [15 pkt] słowniki\n",
    "Aby budować słowniki przyrostowo możemy wykorzystać metodę odwołania do nieistniejącego elementu słownika i operatora przypisania.\n",
    "\n",
    "```\n",
    "d = {}\n",
    "d[1] = 'jeden'\n",
    "d['jeden'] = 'one'\n",
    "```\n",
    "\n",
    "Z użyciem pętli ``for`` oraz ``while`` (czyli piszemy 2 osobne kody!) stwórz słowniki:\n",
    "\n",
    "1. w którym kluczami będa liczby od `1` do `10`, a wartościami kwadraty odpowiednich liczb\n",
    " \n",
    "2. w którym kluczami będa litery alfabetu `abcdefghijklmnopqrstuvwxyz`, a wartościami odpowiednie wartości z tablicy ASCII: {'a': 97}\n",
    "\n",
    "3. stwórz słownik odwrotny do tego z poprzedniego punktu"
   ]
  },
  {
   "cell_type": "code",
   "execution_count": 22,
   "metadata": {
    "collapsed": false
   },
   "outputs": [],
   "source": [
    "# zadanie 3"
   ]
  },
  {
   "cell_type": "markdown",
   "metadata": {},
   "source": [
    "### Zadanie 4 [45 pkt]\n",
    "Napisz funkcję `doc_stat`, która pobiera jedną zmienną: łańcuch znaków. Funkcja ma obliczać \n",
    "\n",
    "* liczbę cyfr, \n",
    "* liczbę białych znaków (spacje, tabulacje, znaki nowej linii), \n",
    "* liczbę znaków przestankowych (`,`, `.`, `:`, `;`, `!`, `?`, `-`)\n",
    "* liczbę pozostałych znaków\n",
    "\n",
    "i zwracać słownik z tymi wynikami.\n",
    "\n",
    "*Przykład*\n",
    "\n",
    "łańcuch “Kazdy ze 100 kotow posiadal 2 miski, 1 na wode i 1 na karme.” ma 6 cyfr, 13 znaków białych (tu: spacji) oraz 39 innych znaków i 2 znaki przestankowe (kropkę i przecinek), powinniśmy więc dostać\n",
    "\n",
    "```\n",
    "tekst = “Kazdy ze 100 kotow posiadal 2 miski, 1 na wode i 1 na karme.”\n",
    "doc_stat(tekst)\n",
    "{'biale znaki': 13, 'cyfry': 6, 'inne': 39, 'przestankowe': 2}\n",
    "```"
   ]
  },
  {
   "cell_type": "code",
   "execution_count": 30,
   "metadata": {
    "collapsed": false
   },
   "outputs": [],
   "source": [
    "# zadanie 4"
   ]
  },
  {
   "cell_type": "markdown",
   "metadata": {},
   "source": [
    "### Zadanie 5 [20 pkt]\n",
    "Napisz 2 funkcje\n",
    "\n",
    "1. funkcja `wszystkie_liczby_parzyste`, który sprawdzi liczby z zakresu od `od` do `do` (włącznie) i wybierze te, których **wszystkie cyfry** będą liczbami parzystymi. Liczby te należy zapisać do nowej listy i listę zwrócić z funkcji.\n",
    "\n",
    "2. funkcja `drukuj_liczby`, która przyjmuje listę liczb a następnie **drukuje** poszczególne liczby jako cyfry oddzielone myślnikiem\n",
    "\n",
    "*Przykład*\n",
    "\n",
    "```\n",
    ">>> od, do = 221, 243\n",
    ">>> liczby = wszystkie_liczby_parzyste(od, do)\n",
    ">>> print(liczby)\n",
    "[222, 224, 226, 228, 240, 242]\n",
    ">>> drukuj_liczby(liczby)\n",
    "2-2-2\n",
    "2-4-4\n",
    "2-2-6\n",
    "2-2-8\n",
    "2-4-0\n",
    "2-4-2\n",
    "```"
   ]
  },
  {
   "cell_type": "code",
   "execution_count": null,
   "metadata": {
    "collapsed": true
   },
   "outputs": [],
   "source": []
  }
 ],
 "metadata": {
  "kernelspec": {
   "display_name": "Python 3",
   "language": "python",
   "name": "python3"
  },
  "language_info": {
   "codemirror_mode": {
    "name": "ipython",
    "version": 3
   },
   "file_extension": ".py",
   "mimetype": "text/x-python",
   "name": "python",
   "nbconvert_exporter": "python",
   "pygments_lexer": "ipython3",
   "version": "3.5.2"
  }
 },
 "nbformat": 4,
 "nbformat_minor": 1
}
