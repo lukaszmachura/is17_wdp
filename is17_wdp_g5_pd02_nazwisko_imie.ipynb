{
 "cells": [
  {
   "cell_type": "markdown",
   "metadata": {},
   "source": [
    "## Wstęp do programowania, grupa 5\n",
    "### Praca domowa 02 [100 pkt]\n",
    "\n",
    "Proszę użyć tego arkusza do rozwiązania zadań domowych. Na początek proszę zmienić 'nazwisko_imie' na Państwa nazwisko i imie, bez polskich znaków diakrytycznych.\n",
    "\n",
    "Część zadań to powtórka z zajęć. Jak już Państwo zaprogramują wszytsko, proszę zapisać arkusz (File->Save and Checkpoint) oraz zapisać arkusz na dysk (File->Download as->Notebook). Ten plik proszę wgrać na classroom. \n",
    "\n",
    "Jeszcze jedna uwaga: Używamy zmiennych oraz komentarzy (tam gdzie to w/g Państwa niezbędne).\n",
    "\n",
    "\n",
    "### Pętle - automatyzacja czynności\n",
    "\n",
    "`while warunek:\n",
    "\tBLOK\n",
    "else:\n",
    "\tBLOK_else`\n",
    "\n",
    "\n",
    "### Zadanie 1 [5 pkt]\n",
    "Przelicz stopnie Celsiusa na Fahrenheita w zakresie temperatur [-37, 37] stopni Celsjusza, co 3 stopnie."
   ]
  },
  {
   "cell_type": "code",
   "execution_count": null,
   "metadata": {
    "collapsed": true
   },
   "outputs": [],
   "source": []
  },
  {
   "cell_type": "markdown",
   "metadata": {},
   "source": [
    "### Zadanie 2 [5 pkt]\n",
    "Z użyciem pętli ``while`` napisz program generujący wszystkie liczby nieparzyste od `1` do `n`. Ustaw zmienną `n` na początku skryptu. Upewnij się, że jeżeli podane `n` będzie parzyste, to największą liczbą jaką zwróci program będzie `n-1`."
   ]
  },
  {
   "cell_type": "code",
   "execution_count": null,
   "metadata": {
    "collapsed": true
   },
   "outputs": [],
   "source": []
  },
  {
   "cell_type": "markdown",
   "metadata": {},
   "source": [
    "### Zadanie 3 [10 pkt]\n",
    "Poniższy kod \n",
    "\n",
    "``s = 0; k = 1; M = 100 \n",
    "while k < M:\t\n",
    "   s = k ** - 1 \t\t\t\n",
    "print(s)``\n",
    "\n",
    "powinien obliczać sumę\n",
    "\n",
    "$$s = \\sum_{k=1}^M \\frac{1}{k}$$\n",
    "\n",
    "Nie działa jednak poprawnie. Dlaczego? Postaraj się go poprawić. (Dla podanych wartości zmiennych wartość sumy powinna wynieść `5.1773775176396208408391430566553026437759399414062`.)"
   ]
  },
  {
   "cell_type": "code",
   "execution_count": null,
   "metadata": {
    "collapsed": true
   },
   "outputs": [],
   "source": []
  },
  {
   "cell_type": "markdown",
   "metadata": {},
   "source": [
    "### Zadanie 4 [15 pkt]\n",
    "Funkcja $\\cos(x)$ może być przybliżona przez sumę\n",
    "\n",
    "$$ C = \\sum_{j=0}^n c_j$$\n",
    "\n",
    "gdzie\n",
    "\n",
    "$$c_0 = 1$$\n",
    "$$c_j = -c_{j-1} \\frac{x^2}{2j (2j - 1)}, \\qquad j=1, 2, 3, \\dots$$\n",
    "\n",
    "Używając pętli `while` napisz program obliczający wartość funkcji $\\cos(y)$ w punkcie $y$ dla danego `n` deklarowanych w odpowiednich zmiennych na początku skryptu.  "
   ]
  },
  {
   "cell_type": "code",
   "execution_count": null,
   "metadata": {
    "collapsed": true
   },
   "outputs": [],
   "source": []
  },
  {
   "cell_type": "markdown",
   "metadata": {},
   "source": [
    "### Zadanie 5 [15 pkt]\n",
    "Napisać programy drukujące N liczb, począwszy od liczby A\n",
    "\n",
    "* niepodzielnych przez M\n",
    "* podzielnych przez M\n",
    "* o naprzemiennych znakach (np: 1, -1, 2, -2, 3, -3, …)"
   ]
  },
  {
   "cell_type": "code",
   "execution_count": null,
   "metadata": {
    "collapsed": true
   },
   "outputs": [],
   "source": []
  },
  {
   "cell_type": "markdown",
   "metadata": {},
   "source": [
    "### Zadanie 6 [10 pkt]\n",
    "Napisać program drukujący trójkąty z gwiazdek dla zadanych N poziomów i justowania (L, P, C). Poniżej przykład dla `N = 6`"
   ]
  },
  {
   "cell_type": "code",
   "execution_count": 9,
   "metadata": {
    "collapsed": false
   },
   "outputs": [
    {
     "name": "stdout",
     "output_type": "stream",
     "text": [
      "C \n",
      "     *\n",
      "    ***\n",
      "   *****\n",
      "  *******\n",
      " *********\n",
      "***********\n",
      "\n",
      "L \n",
      "*\n",
      "***\n",
      "*****\n",
      "*******\n",
      "*********\n",
      "***********\n",
      "\n",
      "R \n",
      "          *\n",
      "        ***\n",
      "      *****\n",
      "    *******\n",
      "  *********\n",
      "***********\n",
      "\n",
      "\n"
     ]
    }
   ],
   "source": [
    "print(\"C\",\"\"\"\n",
    "     *\n",
    "    ***\n",
    "   *****\n",
    "  *******\n",
    " *********\n",
    "***********\n",
    "\"\"\")\n",
    "print(\"L\",\"\"\"\n",
    "*\n",
    "***\n",
    "*****\n",
    "*******\n",
    "*********\n",
    "***********\n",
    "\"\"\")\n",
    "print(\"R\",\"\"\"\n",
    "          *\n",
    "        ***\n",
    "      *****\n",
    "    *******\n",
    "  *********\n",
    "***********\n",
    "\n",
    "\"\"\")"
   ]
  },
  {
   "cell_type": "code",
   "execution_count": null,
   "metadata": {
    "collapsed": true
   },
   "outputs": [],
   "source": []
  },
  {
   "cell_type": "markdown",
   "metadata": {},
   "source": [
    "### Zadanie 7 [20 pkt]\n",
    "W Polsce mamy następujące monety: 1 grosz, 2 grosze, 5 groszy, 10 groszy, 20 groszy, 50 groszy, 1 złoty, 2 złote oraz 5 złoty.\n",
    "Aby zgromadzić 5 złotych, pomijając miedziaki (1 grosz, 2 grosze oraz 5 groszy), możemy np. skompletować\n",
    "\n",
    "1 x 2zł + 2x1zł + 1x50gr + 2x20 gr + 1x10gr\n",
    "\n",
    "Na ile różnych sposobów można zebrać 5 zł używając dowolnej liczby monet z pominięciem miedziaków?"
   ]
  },
  {
   "cell_type": "code",
   "execution_count": null,
   "metadata": {
    "collapsed": true
   },
   "outputs": [],
   "source": []
  },
  {
   "cell_type": "markdown",
   "metadata": {},
   "source": [
    "### Zadanie 8 [20 pkt]\n",
    "Napisz program przekształcający liczby z systemu binarnego do dziesiętnego. Przykładowo liczba binarna `1101` to `13` w systemie dziesiętnym.\n",
    "\n",
    "Program możesz przetestować funkcją `int`: \n",
    "\n",
    "`int('1101', 2)`"
   ]
  },
  {
   "cell_type": "code",
   "execution_count": null,
   "metadata": {
    "collapsed": false
   },
   "outputs": [],
   "source": []
  },
  {
   "cell_type": "code",
   "execution_count": null,
   "metadata": {
    "collapsed": true
   },
   "outputs": [],
   "source": []
  }
 ],
 "metadata": {
  "kernelspec": {
   "display_name": "Python 3",
   "language": "python",
   "name": "python3"
  },
  "language_info": {
   "codemirror_mode": {
    "name": "ipython",
    "version": 3
   },
   "file_extension": ".py",
   "mimetype": "text/x-python",
   "name": "python",
   "nbconvert_exporter": "python",
   "pygments_lexer": "ipython3",
   "version": "3.5.2"
  }
 },
 "nbformat": 4,
 "nbformat_minor": 1
}
