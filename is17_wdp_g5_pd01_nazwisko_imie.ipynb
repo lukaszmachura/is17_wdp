{
 "cells": [
  {
   "cell_type": "markdown",
   "metadata": {},
   "source": [
    "## Wstęp do programowania, grupa 5\n",
    "### Praca domowa 01 [100 pkt]\n",
    "\n",
    "Proszę użyć tego arkusza do rozwiązania zadań domowych. Na początek proszę zmienić 'nazwisko_imie' na Państwa nazwisko i imie, bez polskich znaków diakrytycznych.\n",
    "\n",
    "Część zadań to powtórka z zajęć. Jak już Państwo zaprogramują wszytsko, proszę zapisać arkusz (File->Save and Checkpoint) oraz zapisać arkusz na dysk (File->Download as->Notebook). Ten plik proszę wgrać na classroom. \n",
    "\n",
    "Jeszcze jedna uwaga: Używamy zmiennych oraz komentarzy (tam gdzie to w/g Państwa niezbędne).\n",
    "\n",
    "### Zadanie 1 [5 pkt]\n",
    "Napisz program konwertujący stopnie Celsjusza na stopnie Fahrenheita."
   ]
  },
  {
   "cell_type": "code",
   "execution_count": null,
   "metadata": {
    "collapsed": true
   },
   "outputs": [],
   "source": [
    "# tutaj piszemy program"
   ]
  },
  {
   "cell_type": "code",
   "execution_count": null,
   "metadata": {
    "collapsed": true
   },
   "outputs": [],
   "source": []
  },
  {
   "cell_type": "markdown",
   "metadata": {},
   "source": [
    "### Zadanie 2 [5 pkt]\n",
    "Napisz program konwertujący stopnie Fahrenheita na Celsjusza."
   ]
  },
  {
   "cell_type": "code",
   "execution_count": null,
   "metadata": {
    "collapsed": true
   },
   "outputs": [],
   "source": [
    "# tutaj piszemy program"
   ]
  },
  {
   "cell_type": "code",
   "execution_count": null,
   "metadata": {
    "collapsed": true
   },
   "outputs": [],
   "source": []
  },
  {
   "cell_type": "markdown",
   "metadata": {},
   "source": [
    "### Zadanie 3 [5 pkt]\n",
    "Mamy podane 3 odcinki o długości $a, b, c$. Sprawdź, czy da się z nich zrobić trójkąt. Przetestuj program dla minimum 5 zestawów odcinków."
   ]
  },
  {
   "cell_type": "code",
   "execution_count": null,
   "metadata": {
    "collapsed": true
   },
   "outputs": [],
   "source": [
    "# tutaj piszemy program\n",
    "x, y, z = 1, 2, 3"
   ]
  },
  {
   "cell_type": "code",
   "execution_count": null,
   "metadata": {
    "collapsed": true
   },
   "outputs": [],
   "source": []
  },
  {
   "cell_type": "markdown",
   "metadata": {},
   "source": [
    "### Zadanie 4 [5 pkt]\n",
    "W górę rzucono piłkę. Zaniedbując siły oporu, oblicz na jaką wysokość wzniesie się piłka po $t=0.54$ sekundy, jeżeli wartość początkowa prędkości wynosiła $v_0=3.44$ m∕s. Rozwiązanie równań ruchu daje nam wzór na przebytą drogę\n",
    "\n",
    "$$h(t) = v_0 t - \\frac{g t^2}{2}$$\n",
    "\n",
    "Odpowiedź proszę sformatować tak, żeby brzmiała następująco (wszystkie liczby oczywiscie obliczamy):\n",
    "\n",
    "\"Na rowniku Ziemi, pilka rzucona w gore z predkoscia poczatkowa v0 = 3.44 m/s, bedzie na wysokosci h = 0.42 m po czasie t = 0.54 sekundy\"  "
   ]
  },
  {
   "cell_type": "code",
   "execution_count": null,
   "metadata": {
    "collapsed": false
   },
   "outputs": [],
   "source": [
    "# tutaj piszemy program"
   ]
  },
  {
   "cell_type": "code",
   "execution_count": null,
   "metadata": {
    "collapsed": true
   },
   "outputs": [],
   "source": []
  },
  {
   "cell_type": "code",
   "execution_count": null,
   "metadata": {
    "collapsed": true
   },
   "outputs": [],
   "source": []
  },
  {
   "cell_type": "markdown",
   "metadata": {},
   "source": [
    "### Zadanie 5 [10 pkt]\n",
    "Proszę policzyć zagadnienie z zadania 3 na równikach:\n",
    "* Księżyca,\n",
    "* Marsa,\n",
    "* Jowisza,\n",
    "* Wenus,\n",
    "* Saturna\n",
    "\n",
    "Nie zawsze będzie pięknie, czasem dostaniemy wysokosc ujemną. Proszę ten fakt wychwycić (rozgałęzienie `if`) i zwrócić poprawną odpowiedź, że piłka będzie na h = 0 m (lub słownie: na powierzchni)."
   ]
  },
  {
   "cell_type": "code",
   "execution_count": null,
   "metadata": {
    "collapsed": true
   },
   "outputs": [],
   "source": [
    "# tutaj piszemy program"
   ]
  },
  {
   "cell_type": "code",
   "execution_count": null,
   "metadata": {
    "collapsed": true
   },
   "outputs": [],
   "source": []
  },
  {
   "cell_type": "markdown",
   "metadata": {},
   "source": [
    "### Zadanie 6 [5 pkt]\n",
    "Oblicz swoją liczbę urodzenia."
   ]
  },
  {
   "cell_type": "code",
   "execution_count": null,
   "metadata": {
    "collapsed": true
   },
   "outputs": [],
   "source": [
    "# tutaj piszemy program"
   ]
  },
  {
   "cell_type": "code",
   "execution_count": null,
   "metadata": {
    "collapsed": true
   },
   "outputs": [],
   "source": []
  },
  {
   "cell_type": "markdown",
   "metadata": {},
   "source": [
    "### Zadanie 7 [10 pkt]\n",
    "Oblicz ile dni minęło od Bitwy pod Chojnicami (1657).\n",
    "Pomoc: [Data Juliańska](https://pl.wikipedia.org/wiki/Data_julia%C5%84ska)"
   ]
  },
  {
   "cell_type": "code",
   "execution_count": null,
   "metadata": {
    "collapsed": true
   },
   "outputs": [],
   "source": [
    "# tutaj piszemy program"
   ]
  },
  {
   "cell_type": "code",
   "execution_count": null,
   "metadata": {
    "collapsed": true
   },
   "outputs": [],
   "source": []
  },
  {
   "cell_type": "markdown",
   "metadata": {},
   "source": [
    "### Zadanie 8 [15 pkt]\n",
    "Napisz prosty program zamieniający długość z metrów na jednostki z wysp Brytyjskich (stopy, cale, jardy i mile).\n",
    "* 1 cal = 2.54 cm\n",
    "* 1 stopa = 12 cali\n",
    "* 1 jard = 3 stopy\n",
    "* 1 mila = 1760 jardów\n",
    "\n",
    "Uwaga: 640 m = 25196.85 cali = 2099.74 stóp = 699.91 jardów = 0.3977 mili (użyj tej wielkości do testów). Odpowiedź ładnie sformatuj.\n",
    "\n"
   ]
  },
  {
   "cell_type": "code",
   "execution_count": null,
   "metadata": {
    "collapsed": true
   },
   "outputs": [],
   "source": [
    "# tutaj piszemy program"
   ]
  },
  {
   "cell_type": "code",
   "execution_count": null,
   "metadata": {
    "collapsed": true
   },
   "outputs": [],
   "source": []
  },
  {
   "cell_type": "markdown",
   "metadata": {},
   "source": [
    "### Zadanie 9 [15 pkt]\n",
    "Jeżeli w polu grawitacyjnym wyrzucimy piłkę z wysokości $h_0$ i z prędkością początkową $v_0$ zorientowaną pod kątem $\\alpha$ w stosunku do poziomu, to otrzymujemy zagadnienie rzutu ukośnego. Rozwiązywać je będziecie analitycznie na zajęciach z mechaniki. Równanie toru takiego ruchu we współrzędnych kartezjańskich $(x,y)$ dane jest wzorem:\n",
    "\n",
    "$$y = h_0 + x \\tan(\\alpha) - \\frac{g x^2}{2v_0^2 cos^2(\\alpha)}$$\n",
    "\n",
    "Napisz program znajdujący ”wysokość” piłki $y$ dla zadanych wartości przyspieszenia grawitacyjnego $g$, kąta $\\alpha$, prędkości początkowej $v_0$ i odległości $x$. Postaraj się napisać jak najbardziej czytelny kod. Odpowiedź podaj ładnie sformatowaną (patrz zadanie 4). \n",
    "\n",
    "Funkcje cosinus oraz tangens macie już zaimportowane. Aby ich użyć musicie jednak podać im wartości kątów w radianach (nie w stopniach)."
   ]
  },
  {
   "cell_type": "code",
   "execution_count": null,
   "metadata": {
    "collapsed": true
   },
   "outputs": [],
   "source": [
    "# tutaj piszemy program\n",
    "from math import cos, tan"
   ]
  },
  {
   "cell_type": "code",
   "execution_count": null,
   "metadata": {
    "collapsed": true
   },
   "outputs": [],
   "source": []
  },
  {
   "cell_type": "markdown",
   "metadata": {},
   "source": [
    "### Zadanie 10 [15 pkt]\n",
    "Niech $p$ oznacza stopę procentową banku wyrażoną w procentach na rok. Początkowa wartość $W$ odłożonej gotówki $A$ w tym banku urośnie zgodnie ze wzorem\n",
    "\n",
    "$$W = A\\left(1 + \\frac{p}{100}\\right)^n$$\n",
    "\n",
    "o $n$ latach. Oblicz do jakiej kwoty wzrośnie\n",
    "* 1000 Euro po 3 latach dla stopy 5 procentowej\n",
    "* 23513 zł po 5 latach dla stopy 3,54%\n",
    "* 112,12 miliona Rubli po 1 roku dla stopy 7.14%\n",
    "\n",
    "Powyższe wielkości sformatuj odpowiednio dla wszystkich trzech przypadków tak, by inwestor otrzymał pełną, czytelną informację."
   ]
  },
  {
   "cell_type": "code",
   "execution_count": null,
   "metadata": {
    "collapsed": true
   },
   "outputs": [],
   "source": [
    "# tutaj piszemy program"
   ]
  },
  {
   "cell_type": "code",
   "execution_count": null,
   "metadata": {
    "collapsed": true
   },
   "outputs": [],
   "source": []
  },
  {
   "cell_type": "markdown",
   "metadata": {},
   "source": [
    "### Zadanie 11 [10 pkt]\n",
    "Napisz program wyliczjący pole i obwód koła o zadanym promieniu. Użyj zmiennych (nazwy!). Odpowiedź sformatuj."
   ]
  },
  {
   "cell_type": "code",
   "execution_count": null,
   "metadata": {
    "collapsed": true
   },
   "outputs": [],
   "source": [
    "# tutaj piszemy program"
   ]
  },
  {
   "cell_type": "code",
   "execution_count": null,
   "metadata": {
    "collapsed": true
   },
   "outputs": [],
   "source": []
  }
 ],
 "metadata": {
  "kernelspec": {
   "display_name": "Python 3",
   "language": "python",
   "name": "python3"
  },
  "language_info": {
   "codemirror_mode": {
    "name": "ipython",
    "version": 3
   },
   "file_extension": ".py",
   "mimetype": "text/x-python",
   "name": "python",
   "nbconvert_exporter": "python",
   "pygments_lexer": "ipython3",
   "version": "3.5.2"
  }
 },
 "nbformat": 4,
 "nbformat_minor": 1
}
