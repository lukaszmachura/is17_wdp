{
 "cells": [
  {
   "cell_type": "markdown",
   "metadata": {},
   "source": [
    "# Strumieniowy edytor tekstu\n",
    "\n",
    "Proszę napisać program / funkcję `edytor` która zwraca podany ciąg tekstowy wcześniej zamieniając go zgodnie z podanymi wzorcami\n",
    "\n",
    "* jeżeli po kropce litera jest z małej to zamienia ją na dużą\n",
    "    ```\n",
    "    >>> edytor(“Kot. pies.”)\n",
    "    Kot. Pies.\n",
    "    ```\n",
    "\n",
    "* likwiduje nadmiarowe spacji w całym tekscie\n",
    "    ```\n",
    "    >>> edytor(\"Ala ma  kota. Ala   chce kupic   psa!\")\n",
    "    Ala ma kota. Ala che kupic psa!\n",
    "    ```\n",
    "    \n",
    "* likwiduje spacje przed znakami przestankowymi\n",
    "    ```\n",
    "    >>> edytor(\"Ala ma kota , choc nie kupila go z worka !\")\n",
    "    Ala ma kota, choc nie kupila go z worka!\n",
    "    ```\n",
    "    \n",
    "* zlicza ilości znaków za wyjątkiem białych znaków, wyrazów, linii; Informacje te sa drukowane (`print`) w zaleznosci od parametru info:\n",
    "      info=False (domyslnie): informacja nie jest drukowana\n",
    "      info=True: informacja jest drukowana\n",
    "\n",
    "* w zależności od ustawionego parametru `do_ascii` na `True` bądź `False`\n",
    "  * `True` -> wynikowy ciąg znaków może zawierać tylko znaki z tablicy ascii (proszę pozbyć się polskich znaków diakrytycznych)\n",
    "  ```\n",
    "      >>>edytor(\"Łukasz Machura\", do_ascii=True)\n",
    "      Lukasz Machura\n",
    "```\n",
    "     \n",
    "     \n",
    "  * `False` (domyslnie) -> tekst zostaje w języku polskim\n",
    "         >>>edytor(\"Łukasz Machura\")\n",
    "         Łukasz Machura\n",
    "\n",
    "\n",
    "* zaprogramuj funkcję defensywnie\n",
    "\n",
    "* Przetestuj program na \n",
    "  * 5 krótkich tekstach 1-linijkowych\n",
    "  * 3 dłuższych kilku linijkowych\n",
    "  * 1 tekście pobieranym z pliku\n",
    "\n",
    "\n",
    "**UWAGA: proszę nie używać wbudowanych funkcji do operowania na ciągach znaków. Wszystko programuje Pan sam.** "
   ]
  },
  {
   "cell_type": "code",
   "execution_count": 1,
   "metadata": {
    "collapsed": true
   },
   "outputs": [],
   "source": [
    "def edytor(tekst, info=False, do_ascii=False):\n",
    "    \"\"\"\n",
    "    WEJSCIE\n",
    "     tekst: ciag znakow (tekst) poddawany edycji\n",
    "     info: False (domyslnie) lub True\n",
    "    \n",
    "    WYJŚCIE\n",
    "     string: ciag znakow po edycji\"\"\"\n",
    "    pass"
   ]
  },
  {
   "cell_type": "code",
   "execution_count": null,
   "metadata": {
    "collapsed": true
   },
   "outputs": [],
   "source": []
  }
 ],
 "metadata": {
  "kernelspec": {
   "display_name": "Python 3",
   "language": "python",
   "name": "python3"
  },
  "language_info": {
   "codemirror_mode": {
    "name": "ipython",
    "version": 3
   },
   "file_extension": ".py",
   "mimetype": "text/x-python",
   "name": "python",
   "nbconvert_exporter": "python",
   "pygments_lexer": "ipython3",
   "version": "3.5.2"
  }
 },
 "nbformat": 4,
 "nbformat_minor": 1
}
